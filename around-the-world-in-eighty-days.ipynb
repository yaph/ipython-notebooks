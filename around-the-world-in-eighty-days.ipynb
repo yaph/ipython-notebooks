{
 "cells": [
  {
   "cell_type": "markdown",
   "id": "d96b9818",
   "metadata": {},
   "source": [
    "# Extracting and Mapping Locations from Around the World in Eighty Days\n",
    "\n",
    "* [Gutenberg Book Text](https://www.gutenberg.org/files/103/103-0.txt)"
   ]
  },
  {
   "cell_type": "code",
   "execution_count": 1,
   "metadata": {},
   "outputs": [],
   "source": [
    "import re\n",
    "\n",
    "#import altair as alt\n",
    "import spacy\n",
    "\n",
    "from pathlib import Path\n",
    "\n",
    "from geopy.geocoders import Nominatim\n",
    "from vega_datasets import data\n",
    "\n",
    "\n",
    "geolocator = Nominatim(user_agent='Around The World in Eighty Days')\n",
    "nlp = spacy.load('en_core_web_lg')\n",
    "text = Path('data/around-the-world-in-eighty-days.txt').read_text()\n",
    "chapters = re.split(re.compile(r'\\nCHAPTER\\s+[IVX]+\\.\\n'), text)[1:]\n",
    "assert len(chapters) == 37"
   ]
  },
  {
   "cell_type": "code",
   "execution_count": 2,
   "id": "666f01eb",
   "metadata": {},
   "outputs": [],
   "source": [
    "doc = nlp(chapters[0])"
   ]
  },
  {
   "cell_type": "code",
   "execution_count": 22,
   "id": "8d9aee4c",
   "metadata": {},
   "outputs": [],
   "source": [
    "gpes = []\n",
    "\n",
    "for ent in doc.ents:\n",
    "    if 'GPE' == ent.label_:\n",
    "        gpes.append({\n",
    "            'name': ent.lemma_,\n",
    "            'sentence': ent.sent,\n",
    "            'start_char': ent.start_char\n",
    "        })"
   ]
  },
  {
   "cell_type": "code",
   "execution_count": 25,
   "id": "5365ee55",
   "metadata": {},
   "outputs": [],
   "source": [
    "locations = {}\n",
    "\n",
    "for gpe in gpes:\n",
    "    name = gpe['name']\n",
    "    if name in locations:\n",
    "        locations[name]['references'].append(gpe)\n",
    "    else:\n",
    "        meta = geolocator.geocode(name)\n",
    "        locations[name] = {\n",
    "            'references': [gpe],\n",
    "            'class': meta.raw['class'],\n",
    "            'display_name': meta.address,\n",
    "            'latitude': meta.latitude,\n",
    "            'longitude': meta.longitude,\n",
    "            'type': meta.raw['type']\n",
    "        }"
   ]
  },
  {
   "cell_type": "code",
   "execution_count": 26,
   "id": "7fc238d5",
   "metadata": {},
   "outputs": [
    {
     "data": {
      "text/plain": [
       "{'London': {'references': [{'label': 'GPE',\n",
       "    'name': 'London',\n",
       "    'sentence': He was never seen on ’Change, nor at the Bank, nor in the\n",
       "    counting-rooms of the “City”; no ships ever came into London docks of\n",
       "    which he was the owner; he had no public employment; he had never been\n",
       "    entered at any of the Inns of Court, either at the Temple, or Lincoln’s\n",
       "    Inn, or Gray’s Inn; nor had his voice ever resounded in the Court of\n",
       "    Chancery, or in the Exchequer, or the Queen’s Bench, or the\n",
       "    Ecclesiastical Courts.,\n",
       "    'start_char': 796},\n",
       "   {'label': 'GPE',\n",
       "    'name': 'London',\n",
       "    'sentence': It was at least certain that Phileas Fogg had not absented himself from\n",
       "    London for many years.,\n",
       "    'start_char': 3212}],\n",
       "  'class': 'place',\n",
       "  'display_name': 'London, Greater London, England, United Kingdom',\n",
       "  'latitude': 51.5073219,\n",
       "  'longitude': -0.1276474,\n",
       "  'type': 'city'},\n",
       " 'Inn': {'references': [{'label': 'GPE',\n",
       "    'name': 'Inn',\n",
       "    'sentence': He was never seen on ’Change, nor at the Bank, nor in the\n",
       "    counting-rooms of the “City”; no ships ever came into London docks of\n",
       "    which he was the owner; he had no public employment; he had never been\n",
       "    entered at any of the Inns of Court, either at the Temple, or Lincoln’s\n",
       "    Inn, or Gray’s Inn; nor had his voice ever resounded in the Court of\n",
       "    Chancery, or in the Exchequer, or the Queen’s Bench, or the\n",
       "    Ecclesiastical Courts.,\n",
       "    'start_char': 955}],\n",
       "  'class': 'waterway',\n",
       "  'display_name': 'Inn, 6500, Österreich',\n",
       "  'latitude': 47.3556887,\n",
       "  'longitude': 11.7092706,\n",
       "  'type': 'river'},\n",
       " 'Saville': {'references': [{'label': 'GPE',\n",
       "    'name': 'Saville',\n",
       "    'sentence': He lived alone in his house in Saville\n",
       "    Row, whither none penetrated.,\n",
       "    'start_char': 3999}],\n",
       "  'class': 'place',\n",
       "  'display_name': 'Saville, Perry County, Pennsylvania, 17037, United States',\n",
       "  'latitude': 40.4384144,\n",
       "  'longitude': -77.3958209,\n",
       "  'type': 'village'},\n",
       " 'Paris': {'references': [{'label': 'GPE',\n",
       "    'name': 'Paris',\n",
       "    'sentence': Then I got to be a professor of gymnastics, so as\n",
       "    to make better use of my talents; and then I was a sergeant fireman at\n",
       "    Paris, and assisted at many a big fire.,\n",
       "    'start_char': 7116}],\n",
       "  'class': 'boundary',\n",
       "  'display_name': 'Paris, Île-de-France, France métropolitaine, France',\n",
       "  'latitude': 48.8588897,\n",
       "  'longitude': 2.3200410217200766,\n",
       "  'type': 'administrative'},\n",
       " 'France': {'references': [{'label': 'GPE',\n",
       "    'name': 'France',\n",
       "    'sentence': But I quitted France five years\n",
       "    ago, and, wishing to taste the sweets of domestic life, took service as\n",
       "    a valet here in England.,\n",
       "    'start_char': 7170}],\n",
       "  'class': 'boundary',\n",
       "  'display_name': 'France',\n",
       "  'latitude': 46.603354,\n",
       "  'longitude': 1.8883335,\n",
       "  'type': 'administrative'},\n",
       " 'England': {'references': [{'label': 'GPE',\n",
       "    'name': 'England',\n",
       "    'sentence': But I quitted France five years\n",
       "    ago, and, wishing to taste the sweets of domestic life, took service as\n",
       "    a valet here in England.,\n",
       "    'start_char': 7276}],\n",
       "  'class': 'boundary',\n",
       "  'display_name': 'England, United Kingdom',\n",
       "  'latitude': 52.5310214,\n",
       "  'longitude': -1.2649062,\n",
       "  'type': 'administrative'},\n",
       " 'United Kingdom': {'references': [{'label': 'GPE',\n",
       "    'name': 'United Kingdom',\n",
       "    'sentence': Finding myself out of place, and hearing that\n",
       "    Monsieur Phileas Fogg was the most exact and settled gentleman in the\n",
       "    United Kingdom, I have come to monsieur in the hope of living with him\n",
       "    a tranquil life, and forgetting even the name of Passepartout.”\n",
       "    ,\n",
       "    'start_char': 7401}],\n",
       "  'class': 'boundary',\n",
       "  'display_name': 'United Kingdom',\n",
       "  'latitude': 54.7023545,\n",
       "  'longitude': -3.2765753,\n",
       "  'type': 'administrative'}}"
      ]
     },
     "execution_count": 26,
     "metadata": {},
     "output_type": "execute_result"
    }
   ],
   "source": [
    "locations"
   ]
  },
  {
   "cell_type": "code",
   "execution_count": 62,
   "id": "de7e3fe7",
   "metadata": {},
   "outputs": [
    {
     "data": {
      "text/html": [
       "\n",
       "<div id=\"altair-viz-8bf6c2911b1c4a09a504694b5a425447\"></div>\n",
       "<script type=\"text/javascript\">\n",
       "  var VEGA_DEBUG = (typeof VEGA_DEBUG == \"undefined\") ? {} : VEGA_DEBUG;\n",
       "  (function(spec, embedOpt){\n",
       "    let outputDiv = document.currentScript.previousElementSibling;\n",
       "    if (outputDiv.id !== \"altair-viz-8bf6c2911b1c4a09a504694b5a425447\") {\n",
       "      outputDiv = document.getElementById(\"altair-viz-8bf6c2911b1c4a09a504694b5a425447\");\n",
       "    }\n",
       "    const paths = {\n",
       "      \"vega\": \"https://cdn.jsdelivr.net/npm//vega@5?noext\",\n",
       "      \"vega-lib\": \"https://cdn.jsdelivr.net/npm//vega-lib?noext\",\n",
       "      \"vega-lite\": \"https://cdn.jsdelivr.net/npm//vega-lite@4.17.0?noext\",\n",
       "      \"vega-embed\": \"https://cdn.jsdelivr.net/npm//vega-embed@6?noext\",\n",
       "    };\n",
       "\n",
       "    function maybeLoadScript(lib, version) {\n",
       "      var key = `${lib.replace(\"-\", \"\")}_version`;\n",
       "      return (VEGA_DEBUG[key] == version) ?\n",
       "        Promise.resolve(paths[lib]) :\n",
       "        new Promise(function(resolve, reject) {\n",
       "          var s = document.createElement('script');\n",
       "          document.getElementsByTagName(\"head\")[0].appendChild(s);\n",
       "          s.async = true;\n",
       "          s.onload = () => {\n",
       "            VEGA_DEBUG[key] = version;\n",
       "            return resolve(paths[lib]);\n",
       "          };\n",
       "          s.onerror = () => reject(`Error loading script: ${paths[lib]}`);\n",
       "          s.src = paths[lib];\n",
       "        });\n",
       "    }\n",
       "\n",
       "    function showError(err) {\n",
       "      outputDiv.innerHTML = `<div class=\"error\" style=\"color:red;\">${err}</div>`;\n",
       "      throw err;\n",
       "    }\n",
       "\n",
       "    function displayChart(vegaEmbed) {\n",
       "      vegaEmbed(outputDiv, spec, embedOpt)\n",
       "        .catch(err => showError(`Javascript Error: ${err.message}<br>This usually means there's a typo in your chart specification. See the javascript console for the full traceback.`));\n",
       "    }\n",
       "\n",
       "    if(typeof define === \"function\" && define.amd) {\n",
       "      requirejs.config({paths});\n",
       "      require([\"vega-embed\"], displayChart, err => showError(`Error loading script: ${err.message}`));\n",
       "    } else {\n",
       "      maybeLoadScript(\"vega\", \"5\")\n",
       "        .then(() => maybeLoadScript(\"vega-lite\", \"4.17.0\"))\n",
       "        .then(() => maybeLoadScript(\"vega-embed\", \"6\"))\n",
       "        .catch(showError)\n",
       "        .then(() => displayChart(vegaEmbed));\n",
       "    }\n",
       "  })({\"config\": {\"view\": {\"continuousWidth\": 400, \"continuousHeight\": 300, \"stroke\": null}}, \"layer\": [{\"mark\": {\"type\": \"geoshape\", \"fill\": null, \"stroke\": \"black\"}}, {\"data\": {\"url\": \"https://cdn.jsdelivr.net/npm/vega-datasets@v1.29.0/data/airports.csv\"}, \"mark\": \"circle\", \"encoding\": {\"color\": {\"value\": \"steelblue\"}, \"latitude\": {\"field\": \"latitude\", \"type\": \"quantitative\"}, \"longitude\": {\"field\": \"longitude\", \"type\": \"quantitative\"}, \"size\": {\"field\": \"count\", \"title\": \"Number of Mentions\", \"type\": \"quantitative\"}, \"tooltip\": [{\"field\": \"state\", \"type\": \"nominal\"}, {\"field\": \"count\", \"type\": \"quantitative\"}]}, \"title\": \"Locations in Around the World in Eighty Days\", \"transform\": [{\"aggregate\": [{\"op\": \"mean\", \"field\": \"latitude\", \"as\": \"latitude\"}, {\"op\": \"mean\", \"field\": \"longitude\", \"as\": \"longitude\"}, {\"op\": \"count\", \"as\": \"count\"}], \"groupby\": [\"state\"]}]}], \"data\": {\"url\": \"https://cdn.jsdelivr.net/npm/vega-datasets@v1.29.0/data/world-110m.json\", \"format\": {\"feature\": \"land\", \"type\": \"topojson\"}}, \"height\": 400, \"projection\": {\"type\": \"naturalEarth1\"}, \"width\": 600, \"$schema\": \"https://vega.github.io/schema/vega-lite/v4.17.0.json\"}, {\"mode\": \"vega-lite\"});\n",
       "</script>"
      ],
      "text/plain": [
       "alt.LayerChart(...)"
      ]
     },
     "execution_count": 62,
     "metadata": {},
     "output_type": "execute_result"
    }
   ],
   "source": [
    "# Source of land data\n",
    "source = alt.topo_feature(data.world_110m.url, 'land')\n",
    "\n",
    "# airport positions on background\n",
    "airports = data.airports.url\n",
    "\n",
    "points = alt.Chart(airports).transform_aggregate(\n",
    "    latitude='mean(latitude)',\n",
    "    longitude='mean(longitude)',\n",
    "    count='count()',\n",
    "    groupby=['state']\n",
    ").mark_circle().encode(\n",
    "    longitude='longitude:Q',\n",
    "    latitude='latitude:Q',\n",
    "    size=alt.Size('count:Q', title='Number of Mentions'),\n",
    "    color=alt.value('steelblue'),\n",
    "    tooltip=['state:N','count:Q']\n",
    ").properties(\n",
    "    title='Locations in Around the World in Eighty Days'\n",
    ")\n",
    "\n",
    "# Layering and configuring the components\n",
    "background = alt.layer(\n",
    "    alt.Chart(source).mark_geoshape(fill=None, stroke='black')\n",
    ").project(\n",
    "    'naturalEarth1'\n",
    ").properties(width=600, height=400).configure_view(stroke=None)\n",
    "\n",
    "background + points"
   ]
  },
  {
   "cell_type": "code",
   "execution_count": 71,
   "id": "f99a0d12",
   "metadata": {},
   "outputs": [
    {
     "data": {
      "text/plain": [
       "{'config': {'view': {'continuousWidth': 400, 'continuousHeight': 300}},\n",
       " 'data': {'url': 'https://cdn.jsdelivr.net/npm/vega-datasets@v1.29.0/data/airports.csv'},\n",
       " 'mark': 'circle',\n",
       " 'encoding': {'color': {'value': 'steelblue'},\n",
       "  'latitude': {'field': 'latitude', 'type': 'quantitative'},\n",
       "  'longitude': {'field': 'longitude', 'type': 'quantitative'},\n",
       "  'size': {'field': 'count',\n",
       "   'title': 'Number of Mentions',\n",
       "   'type': 'quantitative'},\n",
       "  'tooltip': [{'field': 'state', 'type': 'nominal'},\n",
       "   {'field': 'count', 'type': 'quantitative'}]},\n",
       " 'title': 'Locations in Around the World in Eighty Days',\n",
       " 'transform': [{'aggregate': [{'op': 'mean',\n",
       "     'field': 'latitude',\n",
       "     'as': 'latitude'},\n",
       "    {'op': 'mean', 'field': 'longitude', 'as': 'longitude'},\n",
       "    {'op': 'count', 'as': 'count'}],\n",
       "   'groupby': ['state']}],\n",
       " '$schema': 'https://vega.github.io/schema/vega-lite/v4.17.0.json'}"
      ]
     },
     "execution_count": 71,
     "metadata": {},
     "output_type": "execute_result"
    }
   ],
   "source": [
    "points.to_dict()"
   ]
  },
  {
   "cell_type": "code",
   "execution_count": null,
   "id": "e1a49d9f",
   "metadata": {},
   "outputs": [],
   "source": []
  }
 ],
 "metadata": {
  "interpreter": {
   "hash": "2f1b094a6b167f8323e50f739d94a20ccb2fcb5972c0ecedfa2c3faccfd54987"
  },
  "kernelspec": {
   "display_name": "Python 3.8.12 64-bit ('dm': conda)",
   "language": "python",
   "name": "python3"
  },
  "language_info": {
   "codemirror_mode": {
    "name": "ipython",
    "version": 3
   },
   "file_extension": ".py",
   "mimetype": "text/x-python",
   "name": "python",
   "nbconvert_exporter": "python",
   "pygments_lexer": "ipython3",
   "version": "3.7.13"
  }
 },
 "nbformat": 4,
 "nbformat_minor": 5
}
