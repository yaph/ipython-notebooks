{
 "cells": [
  {
   "cell_type": "markdown",
   "id": "d96b9818",
   "metadata": {},
   "source": [
    "# Extracting and Mapping Locations from Around the World in Eighty Days\n",
    "\n",
    "* [Gutenberg Book Text](https://www.gutenberg.org/files/103/103-0.txt)"
   ]
  },
  {
   "cell_type": "code",
   "execution_count": 10,
   "metadata": {},
   "outputs": [],
   "source": [
    "import re\n",
    "\n",
    "import altair as alt\n",
    "import spacy\n",
    "\n",
    "from pathlib import Path\n",
    "\n",
    "from geonamescache import GeonamesCache\n",
    "from geopy.geocoders import Nominatim\n",
    "from vega_datasets import data\n",
    "\n",
    "\n",
    "gc = GeonamesCache(min_city_population=500)\n",
    "country_names = {c.get('name') for c in gc.get_countries().values()}\n",
    "geolocator = Nominatim(user_agent='Around The World in Eighty Days')\n",
    "nlp = spacy.load('en_core_web_lg')\n",
    "text = Path('data/around-the-world-in-eighty-days.txt').read_text()\n",
    "chapters = re.split(re.compile(r'\\nCHAPTER\\s+[IVX]+\\.\\n'), text)[1:]\n",
    "assert len(chapters) == 37"
   ]
  },
  {
   "cell_type": "code",
   "execution_count": 11,
   "id": "666f01eb",
   "metadata": {},
   "outputs": [],
   "source": [
    "doc = nlp(chapters[10])"
   ]
  },
  {
   "cell_type": "code",
   "execution_count": 12,
   "id": "8d9aee4c",
   "metadata": {},
   "outputs": [],
   "source": [
    "gpes = []\n",
    "\n",
    "for ent in doc.ents:\n",
    "    if 'GPE' == ent.label_:\n",
    "        gpes.append({\n",
    "            'name': ent.lemma_,\n",
    "            'sentence': ent.sent,\n",
    "            'start_char': ent.start_char\n",
    "        })"
   ]
  },
  {
   "cell_type": "code",
   "execution_count": 39,
   "id": "5365ee55",
   "metadata": {},
   "outputs": [],
   "source": [
    "countries = {} \n",
    "locations = {}\n",
    "\n",
    "for gpe in gpes:\n",
    "    name = gpe['name']\n",
    "    sentence = gpe['sentence']\n",
    "    # if name in countries:\n",
    "    #     countries[name]['references'].append(sentence)\n",
    "    # elif name in country_names:\n",
    "    #     countries[name] = {'references': [sentence]}\n",
    "    if name in locations:\n",
    "        locations[name]['references'].append(sentence)\n",
    "    else:\n",
    "        resp = geolocator.geocode(name, featuretype='city')\n",
    "        if not resp:\n",
    "            continue\n",
    "        locations[name] = {\n",
    "            'references': [sentence],\n",
    "            'latitude': resp.latitude,\n",
    "            'longitude': resp.longitude\n",
    "        }\n",
    "        # FIXME: check whether location is a country rather than cities. \n",
    "        # Color countries by frequency of mentions and use a circle of all other locations.\n",
    "        # meta = geolocator.geocode(name)\n",
    "        # if meta and ('city' == meta.raw['type'] or gc.search_cities(name, attribute='name')):\n",
    "            # 'class': meta.raw['class'],\n",
    "            # 'display_name': meta.address,\n",
    "            # 'latitude': meta.latitude,\n",
    "            # 'longitude': meta.longitude,\n",
    "            # 'type': meta.raw['type']\n"
   ]
  },
  {
   "cell_type": "code",
   "execution_count": 42,
   "id": "bd0f374d",
   "metadata": {},
   "outputs": [
    {
     "data": {
      "text/plain": [
       "[Location(Worcester, Worcestershire, England, United Kingdom, (52.1911849, -2.2206585, 0.0)),\n",
       " Location(England, Lonoke County, Arkansas, United States, (34.5442609, -91.9690285, 0.0))]"
      ]
     },
     "execution_count": 42,
     "metadata": {},
     "output_type": "execute_result"
    }
   ],
   "source": [
    "geolocator.geocode('England', exactly_one=False, featuretype='city')"
   ]
  },
  {
   "cell_type": "code",
   "execution_count": 5,
   "id": "de7e3fe7",
   "metadata": {},
   "outputs": [
    {
     "data": {
      "text/html": [
       "\n",
       "<div id=\"altair-viz-5185f9d4500b4bf0a6a6671e12f83f40\"></div>\n",
       "<script type=\"text/javascript\">\n",
       "  var VEGA_DEBUG = (typeof VEGA_DEBUG == \"undefined\") ? {} : VEGA_DEBUG;\n",
       "  (function(spec, embedOpt){\n",
       "    let outputDiv = document.currentScript.previousElementSibling;\n",
       "    if (outputDiv.id !== \"altair-viz-5185f9d4500b4bf0a6a6671e12f83f40\") {\n",
       "      outputDiv = document.getElementById(\"altair-viz-5185f9d4500b4bf0a6a6671e12f83f40\");\n",
       "    }\n",
       "    const paths = {\n",
       "      \"vega\": \"https://cdn.jsdelivr.net/npm//vega@5?noext\",\n",
       "      \"vega-lib\": \"https://cdn.jsdelivr.net/npm//vega-lib?noext\",\n",
       "      \"vega-lite\": \"https://cdn.jsdelivr.net/npm//vega-lite@4.17.0?noext\",\n",
       "      \"vega-embed\": \"https://cdn.jsdelivr.net/npm//vega-embed@6?noext\",\n",
       "    };\n",
       "\n",
       "    function maybeLoadScript(lib, version) {\n",
       "      var key = `${lib.replace(\"-\", \"\")}_version`;\n",
       "      return (VEGA_DEBUG[key] == version) ?\n",
       "        Promise.resolve(paths[lib]) :\n",
       "        new Promise(function(resolve, reject) {\n",
       "          var s = document.createElement('script');\n",
       "          document.getElementsByTagName(\"head\")[0].appendChild(s);\n",
       "          s.async = true;\n",
       "          s.onload = () => {\n",
       "            VEGA_DEBUG[key] = version;\n",
       "            return resolve(paths[lib]);\n",
       "          };\n",
       "          s.onerror = () => reject(`Error loading script: ${paths[lib]}`);\n",
       "          s.src = paths[lib];\n",
       "        });\n",
       "    }\n",
       "\n",
       "    function showError(err) {\n",
       "      outputDiv.innerHTML = `<div class=\"error\" style=\"color:red;\">${err}</div>`;\n",
       "      throw err;\n",
       "    }\n",
       "\n",
       "    function displayChart(vegaEmbed) {\n",
       "      vegaEmbed(outputDiv, spec, embedOpt)\n",
       "        .catch(err => showError(`Javascript Error: ${err.message}<br>This usually means there's a typo in your chart specification. See the javascript console for the full traceback.`));\n",
       "    }\n",
       "\n",
       "    if(typeof define === \"function\" && define.amd) {\n",
       "      requirejs.config({paths});\n",
       "      require([\"vega-embed\"], displayChart, err => showError(`Error loading script: ${err.message}`));\n",
       "    } else {\n",
       "      maybeLoadScript(\"vega\", \"5\")\n",
       "        .then(() => maybeLoadScript(\"vega-lite\", \"4.17.0\"))\n",
       "        .then(() => maybeLoadScript(\"vega-embed\", \"6\"))\n",
       "        .catch(showError)\n",
       "        .then(() => displayChart(vegaEmbed));\n",
       "    }\n",
       "  })({\"config\": {\"view\": {\"continuousWidth\": 400, \"continuousHeight\": 300, \"stroke\": null}}, \"layer\": [{\"mark\": {\"type\": \"geoshape\", \"fill\": null, \"stroke\": \"black\"}}, {\"data\": {\"url\": \"https://cdn.jsdelivr.net/npm/vega-datasets@v1.29.0/data/airports.csv\"}, \"mark\": \"circle\", \"encoding\": {\"color\": {\"value\": \"steelblue\"}, \"latitude\": {\"field\": \"latitude\", \"type\": \"quantitative\"}, \"longitude\": {\"field\": \"longitude\", \"type\": \"quantitative\"}, \"size\": {\"field\": \"count\", \"title\": \"Number of Mentions\", \"type\": \"quantitative\"}, \"tooltip\": [{\"field\": \"state\", \"type\": \"nominal\"}, {\"field\": \"count\", \"type\": \"quantitative\"}]}, \"title\": \"Locations in Around the World in Eighty Days\", \"transform\": [{\"aggregate\": [{\"op\": \"mean\", \"field\": \"latitude\", \"as\": \"latitude\"}, {\"op\": \"mean\", \"field\": \"longitude\", \"as\": \"longitude\"}, {\"op\": \"count\", \"as\": \"count\"}], \"groupby\": [\"state\"]}]}], \"data\": {\"url\": \"https://cdn.jsdelivr.net/npm/vega-datasets@v1.29.0/data/world-110m.json\", \"format\": {\"feature\": \"land\", \"type\": \"topojson\"}}, \"height\": 400, \"projection\": {\"type\": \"naturalEarth1\"}, \"width\": 600, \"$schema\": \"https://vega.github.io/schema/vega-lite/v4.17.0.json\"}, {\"mode\": \"vega-lite\"});\n",
       "</script>"
      ],
      "text/plain": [
       "alt.LayerChart(...)"
      ]
     },
     "execution_count": 5,
     "metadata": {},
     "output_type": "execute_result"
    }
   ],
   "source": [
    "# Source of land data\n",
    "source = alt.topo_feature(data.world_110m.url, 'land')\n",
    "\n",
    "# airport positions on background\n",
    "airports = data.airports.url\n",
    "\n",
    "points = alt.Chart(airports).transform_aggregate(\n",
    "    latitude='mean(latitude)',\n",
    "    longitude='mean(longitude)',\n",
    "    count='count()',\n",
    "    groupby=['state']\n",
    ").mark_circle().encode(\n",
    "    longitude='longitude:Q',\n",
    "    latitude='latitude:Q',\n",
    "    size=alt.Size('count:Q', title='Number of Mentions'),\n",
    "    color=alt.value('steelblue'),\n",
    "    tooltip=['state:N','count:Q']\n",
    ").properties(\n",
    "    title='Locations in Around the World in Eighty Days'\n",
    ")\n",
    "\n",
    "# Layering and configuring the components\n",
    "background = alt.layer(\n",
    "    alt.Chart(source).mark_geoshape(fill=None, stroke='black')\n",
    ").project(\n",
    "    'naturalEarth1'\n",
    ").properties(width=600, height=400).configure_view(stroke=None)\n",
    "\n",
    "background + points"
   ]
  },
  {
   "cell_type": "code",
   "execution_count": 19,
   "id": "50c12a91",
   "metadata": {},
   "outputs": [
    {
     "data": {
      "text/plain": [
       "[{'2413391': {'geonameid': 2413391,\n",
       "   'name': 'India',\n",
       "   'latitude': 13.56667,\n",
       "   'longitude': -15.75,\n",
       "   'countrycode': 'GM',\n",
       "   'population': 529,\n",
       "   'timezone': 'Africa/Banjul',\n",
       "   'admin1code': '07',\n",
       "   'alternatenames': ['']}}]"
      ]
     },
     "execution_count": 19,
     "metadata": {},
     "output_type": "execute_result"
    }
   ],
   "source": [
    "gc.get_cities_by_name('India')"
   ]
  },
  {
   "cell_type": "code",
   "execution_count": 20,
   "id": "e65420a3",
   "metadata": {},
   "outputs": [
    {
     "data": {
      "text/plain": [
       "7"
      ]
     },
     "execution_count": 20,
     "metadata": {},
     "output_type": "execute_result"
    }
   ],
   "source": [
    "len(locations)"
   ]
  },
  {
   "cell_type": "code",
   "execution_count": null,
   "id": "a7e292b9",
   "metadata": {},
   "outputs": [],
   "source": []
  }
 ],
 "metadata": {
  "interpreter": {
   "hash": "2f1b094a6b167f8323e50f739d94a20ccb2fcb5972c0ecedfa2c3faccfd54987"
  },
  "kernelspec": {
   "display_name": "Python 3.8.12 64-bit ('dm': conda)",
   "language": "python",
   "name": "python3"
  },
  "language_info": {
   "codemirror_mode": {
    "name": "ipython",
    "version": 3
   },
   "file_extension": ".py",
   "mimetype": "text/x-python",
   "name": "python",
   "nbconvert_exporter": "python",
   "pygments_lexer": "ipython3",
   "version": "3.10.5"
  }
 },
 "nbformat": 4,
 "nbformat_minor": 5
}
